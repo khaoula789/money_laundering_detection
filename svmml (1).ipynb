{
 "cells": [
  {
   "attachments": {},
   "cell_type": "markdown",
   "id": "b540aa17-e52f-4257-963d-5a09b64942fe",
   "metadata": {},
   "source": [
    "## the purpose of this project is to detect if a customer is involved in money laundering"
   ]
  },
  {
   "attachments": {},
   "cell_type": "markdown",
   "id": "4c19f710",
   "metadata": {},
   "source": [
    "## 1/preprocessing\n"
   ]
  },
  {
   "cell_type": "code",
   "execution_count": 2,
   "id": "6d12e5e3-2977-4da6-ada6-469e5e011a49",
   "metadata": {},
   "outputs": [],
   "source": [
    "import numpy as np\n",
    "import matplotlib.pyplot as plt\n",
    "import pandas as pd"
   ]
  },
  {
   "cell_type": "code",
   "execution_count": 3,
   "id": "569f5d48-25dc-41a8-9b7a-e0655e3bc2c0",
   "metadata": {},
   "outputs": [],
   "source": [
    "# we have first imported a data from kaggle,more information about the dataset are in link below\n",
    "#https://www.kaggle.com/datasets/maryam1212/money-laundering-data\n",
    "\n",
    "df = pd.read_csv('ML.csv')"
   ]
  },
  {
   "cell_type": "code",
   "execution_count": 4,
   "id": "22a6f436-73e5-426a-93c7-80cae26f8a24",
   "metadata": {},
   "outputs": [
    {
     "data": {
      "text/html": [
       "<div>\n",
       "<style scoped>\n",
       "    .dataframe tbody tr th:only-of-type {\n",
       "        vertical-align: middle;\n",
       "    }\n",
       "\n",
       "    .dataframe tbody tr th {\n",
       "        vertical-align: top;\n",
       "    }\n",
       "\n",
       "    .dataframe thead th {\n",
       "        text-align: right;\n",
       "    }\n",
       "</style>\n",
       "<table border=\"1\" class=\"dataframe\">\n",
       "  <thead>\n",
       "    <tr style=\"text-align: right;\">\n",
       "      <th></th>\n",
       "      <th>typeofaction</th>\n",
       "      <th>sourceid</th>\n",
       "      <th>destinationid</th>\n",
       "      <th>amountofmoney</th>\n",
       "      <th>date</th>\n",
       "      <th>isfraud</th>\n",
       "      <th>typeoffraud</th>\n",
       "    </tr>\n",
       "  </thead>\n",
       "  <tbody>\n",
       "    <tr>\n",
       "      <th>0</th>\n",
       "      <td>cash-in</td>\n",
       "      <td>30105</td>\n",
       "      <td>28942</td>\n",
       "      <td>494528</td>\n",
       "      <td>2019-07-19 14:40:00</td>\n",
       "      <td>1</td>\n",
       "      <td>type1</td>\n",
       "    </tr>\n",
       "    <tr>\n",
       "      <th>1</th>\n",
       "      <td>cash-in</td>\n",
       "      <td>30105</td>\n",
       "      <td>8692</td>\n",
       "      <td>494528</td>\n",
       "      <td>2019-05-17 14:57:00</td>\n",
       "      <td>1</td>\n",
       "      <td>type1</td>\n",
       "    </tr>\n",
       "    <tr>\n",
       "      <th>2</th>\n",
       "      <td>cash-in</td>\n",
       "      <td>30105</td>\n",
       "      <td>60094</td>\n",
       "      <td>494528</td>\n",
       "      <td>2019-07-20 13:20:00</td>\n",
       "      <td>1</td>\n",
       "      <td>type1</td>\n",
       "    </tr>\n",
       "    <tr>\n",
       "      <th>3</th>\n",
       "      <td>cash-in</td>\n",
       "      <td>30105</td>\n",
       "      <td>20575</td>\n",
       "      <td>494528</td>\n",
       "      <td>2019-07-03 14:15:00</td>\n",
       "      <td>1</td>\n",
       "      <td>type1</td>\n",
       "    </tr>\n",
       "    <tr>\n",
       "      <th>4</th>\n",
       "      <td>cash-in</td>\n",
       "      <td>30105</td>\n",
       "      <td>45938</td>\n",
       "      <td>494528</td>\n",
       "      <td>2019-05-26 10:40:00</td>\n",
       "      <td>1</td>\n",
       "      <td>type1</td>\n",
       "    </tr>\n",
       "    <tr>\n",
       "      <th>...</th>\n",
       "      <td>...</td>\n",
       "      <td>...</td>\n",
       "      <td>...</td>\n",
       "      <td>...</td>\n",
       "      <td>...</td>\n",
       "      <td>...</td>\n",
       "      <td>...</td>\n",
       "    </tr>\n",
       "    <tr>\n",
       "      <th>2335</th>\n",
       "      <td>transfer</td>\n",
       "      <td>14945</td>\n",
       "      <td>43793</td>\n",
       "      <td>106907</td>\n",
       "      <td>2019-03-29 14:53:00</td>\n",
       "      <td>0</td>\n",
       "      <td>none</td>\n",
       "    </tr>\n",
       "    <tr>\n",
       "      <th>2336</th>\n",
       "      <td>transfer</td>\n",
       "      <td>9532</td>\n",
       "      <td>43793</td>\n",
       "      <td>106907</td>\n",
       "      <td>2019-04-13 13:19:00</td>\n",
       "      <td>0</td>\n",
       "      <td>none</td>\n",
       "    </tr>\n",
       "    <tr>\n",
       "      <th>2337</th>\n",
       "      <td>transfer</td>\n",
       "      <td>27332</td>\n",
       "      <td>43793</td>\n",
       "      <td>106907</td>\n",
       "      <td>2019-05-10 09:34:00</td>\n",
       "      <td>0</td>\n",
       "      <td>none</td>\n",
       "    </tr>\n",
       "    <tr>\n",
       "      <th>2338</th>\n",
       "      <td>transfer</td>\n",
       "      <td>32685</td>\n",
       "      <td>43793</td>\n",
       "      <td>106907</td>\n",
       "      <td>2019-07-08 12:20:00</td>\n",
       "      <td>0</td>\n",
       "      <td>none</td>\n",
       "    </tr>\n",
       "    <tr>\n",
       "      <th>2339</th>\n",
       "      <td>transfer</td>\n",
       "      <td>26390</td>\n",
       "      <td>43793</td>\n",
       "      <td>106907</td>\n",
       "      <td>2019-03-25 13:52:00</td>\n",
       "      <td>0</td>\n",
       "      <td>none</td>\n",
       "    </tr>\n",
       "  </tbody>\n",
       "</table>\n",
       "<p>2340 rows × 7 columns</p>\n",
       "</div>"
      ],
      "text/plain": [
       "     typeofaction  sourceid  destinationid  amountofmoney  \\\n",
       "0         cash-in     30105          28942         494528   \n",
       "1         cash-in     30105           8692         494528   \n",
       "2         cash-in     30105          60094         494528   \n",
       "3         cash-in     30105          20575         494528   \n",
       "4         cash-in     30105          45938         494528   \n",
       "...           ...       ...            ...            ...   \n",
       "2335     transfer     14945          43793         106907   \n",
       "2336     transfer      9532          43793         106907   \n",
       "2337     transfer     27332          43793         106907   \n",
       "2338     transfer     32685          43793         106907   \n",
       "2339     transfer     26390          43793         106907   \n",
       "\n",
       "                     date  isfraud typeoffraud  \n",
       "0     2019-07-19 14:40:00        1       type1  \n",
       "1     2019-05-17 14:57:00        1       type1  \n",
       "2     2019-07-20 13:20:00        1       type1  \n",
       "3     2019-07-03 14:15:00        1       type1  \n",
       "4     2019-05-26 10:40:00        1       type1  \n",
       "...                   ...      ...         ...  \n",
       "2335  2019-03-29 14:53:00        0        none  \n",
       "2336  2019-04-13 13:19:00        0        none  \n",
       "2337  2019-05-10 09:34:00        0        none  \n",
       "2338  2019-07-08 12:20:00        0        none  \n",
       "2339  2019-03-25 13:52:00        0        none  \n",
       "\n",
       "[2340 rows x 7 columns]"
      ]
     },
     "execution_count": 4,
     "metadata": {},
     "output_type": "execute_result"
    }
   ],
   "source": [
    "df"
   ]
  },
  {
   "cell_type": "code",
   "execution_count": 5,
   "id": "d290143f-37f7-4e99-b84e-54516c180516",
   "metadata": {},
   "outputs": [
    {
     "data": {
      "text/html": [
       "<div>\n",
       "<style scoped>\n",
       "    .dataframe tbody tr th:only-of-type {\n",
       "        vertical-align: middle;\n",
       "    }\n",
       "\n",
       "    .dataframe tbody tr th {\n",
       "        vertical-align: top;\n",
       "    }\n",
       "\n",
       "    .dataframe thead th {\n",
       "        text-align: right;\n",
       "    }\n",
       "</style>\n",
       "<table border=\"1\" class=\"dataframe\">\n",
       "  <thead>\n",
       "    <tr style=\"text-align: right;\">\n",
       "      <th></th>\n",
       "      <th>sourceid</th>\n",
       "      <th>destinationid</th>\n",
       "      <th>amountofmoney</th>\n",
       "      <th>isfraud</th>\n",
       "    </tr>\n",
       "  </thead>\n",
       "  <tbody>\n",
       "    <tr>\n",
       "      <th>count</th>\n",
       "      <td>2340.000000</td>\n",
       "      <td>2340.000000</td>\n",
       "      <td>2.340000e+03</td>\n",
       "      <td>2340.000000</td>\n",
       "    </tr>\n",
       "    <tr>\n",
       "      <th>mean</th>\n",
       "      <td>49111.255128</td>\n",
       "      <td>52257.918803</td>\n",
       "      <td>2.508583e+06</td>\n",
       "      <td>0.597863</td>\n",
       "    </tr>\n",
       "    <tr>\n",
       "      <th>std</th>\n",
       "      <td>29614.440603</td>\n",
       "      <td>28988.847246</td>\n",
       "      <td>2.560434e+06</td>\n",
       "      <td>0.490434</td>\n",
       "    </tr>\n",
       "    <tr>\n",
       "      <th>min</th>\n",
       "      <td>61.000000</td>\n",
       "      <td>53.000000</td>\n",
       "      <td>1.333200e+04</td>\n",
       "      <td>0.000000</td>\n",
       "    </tr>\n",
       "    <tr>\n",
       "      <th>25%</th>\n",
       "      <td>24033.000000</td>\n",
       "      <td>28046.000000</td>\n",
       "      <td>3.359140e+05</td>\n",
       "      <td>0.000000</td>\n",
       "    </tr>\n",
       "    <tr>\n",
       "      <th>50%</th>\n",
       "      <td>46632.500000</td>\n",
       "      <td>52748.500000</td>\n",
       "      <td>1.162354e+06</td>\n",
       "      <td>1.000000</td>\n",
       "    </tr>\n",
       "    <tr>\n",
       "      <th>75%</th>\n",
       "      <td>75107.000000</td>\n",
       "      <td>78030.000000</td>\n",
       "      <td>4.686559e+06</td>\n",
       "      <td>1.000000</td>\n",
       "    </tr>\n",
       "    <tr>\n",
       "      <th>max</th>\n",
       "      <td>100000.000000</td>\n",
       "      <td>99950.000000</td>\n",
       "      <td>7.952497e+06</td>\n",
       "      <td>1.000000</td>\n",
       "    </tr>\n",
       "  </tbody>\n",
       "</table>\n",
       "</div>"
      ],
      "text/plain": [
       "            sourceid  destinationid  amountofmoney      isfraud\n",
       "count    2340.000000    2340.000000   2.340000e+03  2340.000000\n",
       "mean    49111.255128   52257.918803   2.508583e+06     0.597863\n",
       "std     29614.440603   28988.847246   2.560434e+06     0.490434\n",
       "min        61.000000      53.000000   1.333200e+04     0.000000\n",
       "25%     24033.000000   28046.000000   3.359140e+05     0.000000\n",
       "50%     46632.500000   52748.500000   1.162354e+06     1.000000\n",
       "75%     75107.000000   78030.000000   4.686559e+06     1.000000\n",
       "max    100000.000000   99950.000000   7.952497e+06     1.000000"
      ]
     },
     "execution_count": 5,
     "metadata": {},
     "output_type": "execute_result"
    }
   ],
   "source": [
    "df.describe()"
   ]
  },
  {
   "cell_type": "code",
   "execution_count": 6,
   "id": "c35ddb35-0463-4ccb-b7a2-40eceac4ea81",
   "metadata": {},
   "outputs": [
    {
     "data": {
      "text/html": [
       "<div>\n",
       "<style scoped>\n",
       "    .dataframe tbody tr th:only-of-type {\n",
       "        vertical-align: middle;\n",
       "    }\n",
       "\n",
       "    .dataframe tbody tr th {\n",
       "        vertical-align: top;\n",
       "    }\n",
       "\n",
       "    .dataframe thead th {\n",
       "        text-align: right;\n",
       "    }\n",
       "</style>\n",
       "<table border=\"1\" class=\"dataframe\">\n",
       "  <thead>\n",
       "    <tr style=\"text-align: right;\">\n",
       "      <th></th>\n",
       "      <th>typeofaction</th>\n",
       "      <th>date</th>\n",
       "      <th>typeoffraud</th>\n",
       "    </tr>\n",
       "  </thead>\n",
       "  <tbody>\n",
       "    <tr>\n",
       "      <th>count</th>\n",
       "      <td>2340</td>\n",
       "      <td>2340</td>\n",
       "      <td>2340</td>\n",
       "    </tr>\n",
       "    <tr>\n",
       "      <th>unique</th>\n",
       "      <td>2</td>\n",
       "      <td>2309</td>\n",
       "      <td>4</td>\n",
       "    </tr>\n",
       "    <tr>\n",
       "      <th>top</th>\n",
       "      <td>transfer</td>\n",
       "      <td>2019-05-12 14:02:00</td>\n",
       "      <td>none</td>\n",
       "    </tr>\n",
       "    <tr>\n",
       "      <th>freq</th>\n",
       "      <td>1580</td>\n",
       "      <td>2</td>\n",
       "      <td>941</td>\n",
       "    </tr>\n",
       "  </tbody>\n",
       "</table>\n",
       "</div>"
      ],
      "text/plain": [
       "       typeofaction                 date typeoffraud\n",
       "count          2340                 2340        2340\n",
       "unique            2                 2309           4\n",
       "top        transfer  2019-05-12 14:02:00        none\n",
       "freq           1580                    2         941"
      ]
     },
     "execution_count": 6,
     "metadata": {},
     "output_type": "execute_result"
    }
   ],
   "source": [
    "df.describe (include= ['O'])"
   ]
  },
  {
   "cell_type": "code",
   "execution_count": 7,
   "id": "d11a0704-339d-42b4-99fc-7cf972b3f05d",
   "metadata": {},
   "outputs": [],
   "source": [
    "# as we saw in the dataset,when isfraud field is 1 it means that person commits money laundering crime and type of money laundering crime is saved in typeoffraud field but since we are not interested in the type of fraud but only in  the fraud itself, we will delete the variable \"typeoffraud\n",
    "df.drop([\"typeoffraud\"], axis = 1, inplace=True)"
   ]
  },
  {
   "cell_type": "code",
   "execution_count": 8,
   "id": "bc1a2abe-d3d1-40b0-8e67-da4d8028d8f7",
   "metadata": {},
   "outputs": [
    {
     "data": {
      "text/plain": [
       "typeofaction     object\n",
       "sourceid          int64\n",
       "destinationid     int64\n",
       "amountofmoney     int64\n",
       "date             object\n",
       "isfraud           int64\n",
       "dtype: object"
      ]
     },
     "execution_count": 8,
     "metadata": {},
     "output_type": "execute_result"
    }
   ],
   "source": [
    "df.dtypes"
   ]
  },
  {
   "cell_type": "code",
   "execution_count": 9,
   "id": "4f572a43-adf1-473c-9e82-478584dc2f31",
   "metadata": {},
   "outputs": [],
   "source": [
    "#we will change the type of sourceid and destinationid into cathegorical \n",
    "df['sourceid']=df['sourceid'].astype('object')\n",
    "df['destinationid']=df['destinationid'].astype('object')"
   ]
  },
  {
   "cell_type": "code",
   "execution_count": 10,
   "id": "b5e64990-2d6a-40f3-b23a-b7bc4e22877f",
   "metadata": {},
   "outputs": [
    {
     "data": {
      "text/plain": [
       "typeofaction     object\n",
       "sourceid         object\n",
       "destinationid    object\n",
       "amountofmoney     int64\n",
       "date             object\n",
       "isfraud           int64\n",
       "dtype: object"
      ]
     },
     "execution_count": 10,
     "metadata": {},
     "output_type": "execute_result"
    }
   ],
   "source": [
    "df.dtypes"
   ]
  },
  {
   "cell_type": "code",
   "execution_count": 11,
   "id": "e632c3be-2539-44df-bef2-ae2856c12fa6",
   "metadata": {},
   "outputs": [],
   "source": [
    "\n",
    "from sklearn import preprocessing\n",
    "label_encoder = preprocessing.LabelEncoder()\n",
    "df['typeofaction'] = label_encoder.fit_transform(df['typeofaction'])\n",
    "df[\"date\"] = label_encoder.fit_transform(df[\"date\"])"
   ]
  },
  {
   "cell_type": "code",
   "execution_count": 12,
   "id": "f6544400-1bc0-4386-8e99-ed4f4bec887c",
   "metadata": {},
   "outputs": [
    {
     "name": "stdout",
     "output_type": "stream",
     "text": [
      "0\n"
     ]
    }
   ],
   "source": [
    "#we will check if the dataset contain empty columns\n",
    "print(df.isnull().sum().sum())"
   ]
  },
  {
   "cell_type": "code",
   "execution_count": 13,
   "id": "aa1dfe7f-83af-45c2-9f7f-769e9f5c4c59",
   "metadata": {},
   "outputs": [
    {
     "data": {
      "text/plain": [
       "1    1399\n",
       "0     941\n",
       "Name: isfraud, dtype: int64"
      ]
     },
     "execution_count": 13,
     "metadata": {},
     "output_type": "execute_result"
    }
   ],
   "source": [
    "#we check if the the data in the variable 'isfraud' is balanced, we found out that it's not but we decided not to do down simpling so that we don't lose data\n",
    "df['isfraud'].value_counts()"
   ]
  },
  {
   "cell_type": "code",
   "execution_count": 14,
   "id": "d4e62823-dfba-4b0c-8af9-8a5d1293d2ad",
   "metadata": {},
   "outputs": [],
   "source": [
    "#we will split our data to features data (X) and target data (Y) \n",
    "X = df.iloc[:,0:5].values\n",
    "Y = df.iloc[:,5].values"
   ]
  },
  {
   "cell_type": "code",
   "execution_count": 15,
   "id": "921c64e9-670b-4d13-872d-5091a2bd499c",
   "metadata": {},
   "outputs": [
    {
     "data": {
      "text/plain": [
       "array([[0, 30105, 28942, 494528, 2297],\n",
       "       [0, 30105, 8692, 494528, 1322],\n",
       "       [0, 30105, 60094, 494528, 2307],\n",
       "       ...,\n",
       "       [1, 27332, 43793, 106907, 1202],\n",
       "       [1, 32685, 43793, 106907, 2125],\n",
       "       [1, 26390, 43793, 106907, 499]], dtype=object)"
      ]
     },
     "execution_count": 15,
     "metadata": {},
     "output_type": "execute_result"
    }
   ],
   "source": [
    "X"
   ]
  },
  {
   "cell_type": "code",
   "execution_count": 16,
   "id": "6e471dec-0bce-492b-8452-01249cf808b4",
   "metadata": {},
   "outputs": [
    {
     "data": {
      "text/plain": [
       "array([1, 1, 1, ..., 0, 0, 0], dtype=int64)"
      ]
     },
     "execution_count": 16,
     "metadata": {},
     "output_type": "execute_result"
    }
   ],
   "source": [
    "Y"
   ]
  },
  {
   "cell_type": "code",
   "execution_count": 17,
   "id": "a4add1e4-4a0c-4d1d-aefe-ebf59950b473",
   "metadata": {},
   "outputs": [],
   "source": [
    "#we split data into training data and testing data\n",
    "from sklearn.model_selection import train_test_split\n",
    "X_train, X_test, Y_train, Y_test = train_test_split(X, Y, test_size=0.2, random_state=0)"
   ]
  },
  {
   "cell_type": "code",
   "execution_count": 18,
   "id": "ba4b1a33-4320-4946-ba1b-9333514bddee",
   "metadata": {},
   "outputs": [],
   "source": [
    "from sklearn.preprocessing import StandardScaler\n",
    "sc = StandardScaler()\n",
    "X_train = sc.fit_transform(X_train)\n",
    "X_test = sc.transform(X_test)"
   ]
  },
  {
   "attachments": {},
   "cell_type": "markdown",
   "id": "40005864-ded8-451c-a018-84397c63b738",
   "metadata": {},
   "source": [
    "## 2/creating the model and testing \n"
   ]
  },
  {
   "cell_type": "code",
   "execution_count": 19,
   "id": "106e898e-8b12-4f7c-a27a-f3c7fcae8262",
   "metadata": {},
   "outputs": [],
   "source": [
    "import numpy as np\n",
    "import matplotlib.pyplot as plt\n",
    "import itertools\n",
    "from sklearn.svm import SVC\n",
    "from sklearn import preprocessing\n",
    "from sklearn.metrics import confusion_matrix\n",
    "from sklearn import metrics\n",
    "import seaborn as sns"
   ]
  },
  {
   "cell_type": "code",
   "execution_count": 20,
   "id": "5f7cef89-b421-43d1-9a00-e84990dc75a4",
   "metadata": {},
   "outputs": [],
   "source": [
    "#Confusion Matrix\n",
    "\n",
    "def conf(algo_name,X_test, Y_test):\n",
    "    y_pred = algo_name.predict(X_test)\n",
    "    forest_cm = metrics.confusion_matrix(Y_pred, Y_test)\n",
    "    sns.heatmap(forest_cm, annot=True, fmt='.2f',xticklabels = [\"1\", \"0\"] , yticklabels = [\"1\", \"0\"] )"
   ]
  },
  {
   "attachments": {},
   "cell_type": "markdown",
   "id": "564ddf22-1a0a-4a92-b447-766719c648f0",
   "metadata": {},
   "source": [
    "### we will use different models(SVM/NN/RANDOM FOREST/LOGISTIC REGRESSION and at the end we will choose the one with the best accuracy\n"
   ]
  },
  {
   "cell_type": "code",
   "execution_count": 21,
   "id": "028c1b29-5c8e-4fed-9f0d-7f807897bd6f",
   "metadata": {},
   "outputs": [
    {
     "data": {
      "image/png": "[encoded data removed]",
      "text/plain": [
       "<Figure size 432x288 with 2 Axes>"
      ]
     },
     "metadata": {
      "needs_background": "light"
     },
     "output_type": "display_data"
    }
   ],
   "source": [
    "from sklearn.svm import SVC\n",
    "classifier = SVC(kernel = 'poly', random_state = 0)\n",
    "classifier.fit(X_train, Y_train)\n",
    "Y_pred = classifier.predict(X_test)\n",
    "conf(classifier,X_test, Y_test)\n"
   ]
  },
  {
   "cell_type": "code",
   "execution_count": 22,
   "id": "5d170cf3-853a-4261-8144-184fc306e4e0",
   "metadata": {},
   "outputs": [
    {
     "name": "stdout",
     "output_type": "stream",
     "text": [
      "0.8717948717948718\n"
     ]
    }
   ],
   "source": [
    "# importing accuracy score\n",
    "from sklearn.metrics import accuracy_score\n",
    "\n",
    "# printing the accuracy of the model\n",
    "print(accuracy_score(Y_test, Y_pred))"
   ]
  },
  {
   "cell_type": "code",
   "execution_count": 23,
   "id": "8e6189da-213f-4926-acb7-d8545e630a76",
   "metadata": {},
   "outputs": [
    {
     "data": {
      "text/plain": [
       "[<matplotlib.lines.Line2D at 0x2bb290c6e50>]"
      ]
     },
     "execution_count": 23,
     "metadata": {},
     "output_type": "execute_result"
    },
    {
     "data": {
      "image/png": "[encoded data removed]",
      "text/plain": [
       "<Figure size 432x288 with 1 Axes>"
      ]
     },
     "metadata": {
      "needs_background": "light"
     },
     "output_type": "display_data"
    }
   ],
   "source": [
    "from sklearn import metrics\n",
    "yp = classifier.predict(X_test)\n",
    "fpr, tpr, _ = metrics.roc_curve(Y_test, yp)\n",
    "auc = round(metrics.roc_auc_score(Y_test, yp), 4)\n",
    "plt.plot(fpr,tpr,label=\"nn, AUC=\"+str(auc))"
   ]
  },
  {
   "cell_type": "code",
   "execution_count": 24,
   "id": "896117f6-b83f-47da-bc3c-863033b37c1d",
   "metadata": {},
   "outputs": [
    {
     "data": {
      "text/plain": [
       "<AxesSubplot:>"
      ]
     },
     "execution_count": 24,
     "metadata": {},
     "output_type": "execute_result"
    },
    {
     "data": {
      "image/png": "[encoded data removed]",
      "text/plain": [
       "<Figure size 432x288 with 2 Axes>"
      ]
     },
     "metadata": {
      "needs_background": "light"
     },
     "output_type": "display_data"
    }
   ],
   "source": [
    "#Confusion Matrix\n",
    "# rbf\n",
    "classifier = SVC(kernel = 'rbf', random_state = 0)\n",
    "classifier.fit(X_train, Y_train)\n",
    "Y_pred = classifier.predict(X_test)\n",
    "\n",
    "forest_cm = metrics.confusion_matrix(Y_pred, Y_test)\n",
    "sns.heatmap(forest_cm, annot=True, fmt='.2f',xticklabels = [\"1\", \"0\"] , yticklabels = [\"1\", \"0\"] )\n"
   ]
  },
  {
   "cell_type": "code",
   "execution_count": 25,
   "id": "c106ebbe-5e62-4c7d-bcc1-fe6df70aca7a",
   "metadata": {},
   "outputs": [
    {
     "name": "stdout",
     "output_type": "stream",
     "text": [
      "0.9017094017094017\n"
     ]
    }
   ],
   "source": [
    "# importing accuracy score\n",
    "from sklearn.metrics import accuracy_score\n",
    "\n",
    "# printing the accuracy of the model\n",
    "print(accuracy_score(Y_test, Y_pred))"
   ]
  },
  {
   "cell_type": "code",
   "execution_count": 26,
   "id": "12384eef-0b64-42b1-bcad-d1bb31871a6c",
   "metadata": {},
   "outputs": [
    {
     "data": {
      "text/plain": [
       "[<matplotlib.lines.Line2D at 0x2bb291e22e0>]"
      ]
     },
     "execution_count": 26,
     "metadata": {},
     "output_type": "execute_result"
    },
    {
     "data": {
      "image/png": "[encoded data removed]",
      "text/plain": [
       "<Figure size 432x288 with 1 Axes>"
      ]
     },
     "metadata": {
      "needs_background": "light"
     },
     "output_type": "display_data"
    }
   ],
   "source": [
    "from sklearn import metrics\n",
    "yp = classifier.predict(X_test)\n",
    "fpr, tpr, _ = metrics.roc_curve(Y_test, yp)\n",
    "auc = round(metrics.roc_auc_score(Y_test, yp), 4)\n",
    "plt.plot(fpr,tpr,label=\"nn, AUC=\"+str(auc))"
   ]
  },
  {
   "cell_type": "code",
   "execution_count": 27,
   "id": "f80b7483-9851-4258-a0ec-fa16d94b4144",
   "metadata": {},
   "outputs": [
    {
     "data": {
      "text/plain": [
       "<AxesSubplot:>"
      ]
     },
     "execution_count": 27,
     "metadata": {},
     "output_type": "execute_result"
    },
    {
     "data": {
      "image/png": "[encoded data removed]",
      "text/plain": [
       "<Figure size 432x288 with 2 Axes>"
      ]
     },
     "metadata": {
      "needs_background": "light"
     },
     "output_type": "display_data"
    }
   ],
   "source": [
    "#Confusion Matrix\n",
    "# sigmoid\n",
    "classifier = SVC(kernel = 'sigmoid', random_state = 0)\n",
    "classifier.fit(X_train, Y_train)\n",
    "Y_pred = classifier.predict(X_test)\n",
    "\n",
    "forest_cm = metrics.confusion_matrix(Y_pred, Y_test)\n",
    "sns.heatmap(forest_cm, annot=True, fmt='.2f',xticklabels = [\"1\", \"0\"] , yticklabels = [\"1\", \"0\"] )\n"
   ]
  },
  {
   "cell_type": "code",
   "execution_count": 28,
   "id": "f2832ec3-d572-4837-8606-56615f04053a",
   "metadata": {},
   "outputs": [
    {
     "name": "stdout",
     "output_type": "stream",
     "text": [
      "0.37606837606837606\n"
     ]
    }
   ],
   "source": [
    "# importing accuracy score\n",
    "from sklearn.metrics import accuracy_score\n",
    "\n",
    "# printing the accuracy of the model\n",
    "print(accuracy_score(Y_test, Y_pred))"
   ]
  },
  {
   "cell_type": "code",
   "execution_count": 29,
   "id": "8662e7b0-543f-4070-8d3e-1d9175e69e23",
   "metadata": {},
   "outputs": [
    {
     "data": {
      "text/plain": [
       "[<matplotlib.lines.Line2D at 0x2bb292e17c0>]"
      ]
     },
     "execution_count": 29,
     "metadata": {},
     "output_type": "execute_result"
    },
    {
     "data": {
      "image/png": "[encoded data removed]",
      "text/plain": [
       "<Figure size 432x288 with 1 Axes>"
      ]
     },
     "metadata": {
      "needs_background": "light"
     },
     "output_type": "display_data"
    }
   ],
   "source": [
    "from sklearn import metrics\n",
    "yp = classifier.predict(X_test)\n",
    "fpr, tpr, _ = metrics.roc_curve(Y_test, yp)\n",
    "auc = round(metrics.roc_auc_score(Y_test, yp), 4)\n",
    "plt.plot(fpr,tpr,label=\"nn, AUC=\"+str(auc))"
   ]
  },
  {
   "cell_type": "code",
   "execution_count": 30,
   "id": "3aa920bd-9d37-4622-a4d7-53c014cf2d70",
   "metadata": {},
   "outputs": [
    {
     "data": {
      "text/html": [
       "<style>#sk-container-id-1 {color: black;background-color: white;}#sk-container-id-1 pre{padding: 0;}#sk-container-id-1 div.sk-toggleable {background-color: white;}#sk-container-id-1 label.sk-toggleable__label {cursor: pointer;display: block;width: 100%;margin-bottom: 0;padding: 0.3em;box-sizing: border-box;text-align: center;}#sk-container-id-1 label.sk-toggleable__label-arrow:before {content: \"▸\";float: left;margin-right: 0.25em;color: #696969;}#sk-container-id-1 label.sk-toggleable__label-arrow:hover:before {color: black;}#sk-container-id-1 div.sk-estimator:hover label.sk-toggleable__label-arrow:before {color: black;}#sk-container-id-1 div.sk-toggleable__content {max-height: 0;max-width: 0;overflow: hidden;text-align: left;background-color: #f0f8ff;}#sk-container-id-1 div.sk-toggleable__content pre {margin: 0.2em;color: black;border-radius: 0.25em;background-color: #f0f8ff;}#sk-container-id-1 input.sk-toggleable__control:checked~div.sk-toggleable__content {max-height: 200px;max-width: 100%;overflow: auto;}#sk-container-id-1 input.sk-toggleable__control:checked~label.sk-toggleable__label-arrow:before {content: \"▾\";}#sk-container-id-1 div.sk-estimator input.sk-toggleable__control:checked~label.sk-toggleable__label {background-color: #d4ebff;}#sk-container-id-1 div.sk-label input.sk-toggleable__control:checked~label.sk-toggleable__label {background-color: #d4ebff;}#sk-container-id-1 input.sk-hidden--visually {border: 0;clip: rect(1px 1px 1px 1px);clip: rect(1px, 1px, 1px, 1px);height: 1px;margin: -1px;overflow: hidden;padding: 0;position: absolute;width: 1px;}#sk-container-id-1 div.sk-estimator {font-family: monospace;background-color: #f0f8ff;border: 1px dotted black;border-radius: 0.25em;box-sizing: border-box;margin-bottom: 0.5em;}#sk-container-id-1 div.sk-estimator:hover {background-color: #d4ebff;}#sk-container-id-1 div.sk-parallel-item::after {content: \"\";width: 100%;border-bottom: 1px solid gray;flex-grow: 1;}#sk-container-id-1 div.sk-label:hover label.sk-toggleable__label {background-color: #d4ebff;}#sk-container-id-1 div.sk-serial::before {content: \"\";position: absolute;border-left: 1px solid gray;box-sizing: border-box;top: 0;bottom: 0;left: 50%;z-index: 0;}#sk-container-id-1 div.sk-serial {display: flex;flex-direction: column;align-items: center;background-color: white;padding-right: 0.2em;padding-left: 0.2em;position: relative;}#sk-container-id-1 div.sk-item {position: relative;z-index: 1;}#sk-container-id-1 div.sk-parallel {display: flex;align-items: stretch;justify-content: center;background-color: white;position: relative;}#sk-container-id-1 div.sk-item::before, #sk-container-id-1 div.sk-parallel-item::before {content: \"\";position: absolute;border-left: 1px solid gray;box-sizing: border-box;top: 0;bottom: 0;left: 50%;z-index: -1;}#sk-container-id-1 div.sk-parallel-item {display: flex;flex-direction: column;z-index: 1;position: relative;background-color: white;}#sk-container-id-1 div.sk-parallel-item:first-child::after {align-self: flex-end;width: 50%;}#sk-container-id-1 div.sk-parallel-item:last-child::after {align-self: flex-start;width: 50%;}#sk-container-id-1 div.sk-parallel-item:only-child::after {width: 0;}#sk-container-id-1 div.sk-dashed-wrapped {border: 1px dashed gray;margin: 0 0.4em 0.5em 0.4em;box-sizing: border-box;padding-bottom: 0.4em;background-color: white;}#sk-container-id-1 div.sk-label label {font-family: monospace;font-weight: bold;display: inline-block;line-height: 1.2em;}#sk-container-id-1 div.sk-label-container {text-align: center;}#sk-container-id-1 div.sk-container {/* jupyter's `normalize.less` sets `[hidden] { display: none; }` but bootstrap.min.css set `[hidden] { display: none !important; }` so we also need the `!important` here to be able to override the default hidden behavior on the sphinx rendered scikit-learn.org. See: https://github.com/scikit-learn/scikit-learn/issues/21755 */display: inline-block !important;position: relative;}#sk-container-id-1 div.sk-text-repr-fallback {display: none;}</style><div id=\"sk-container-id-1\" class=\"sk-top-container\"><div class=\"sk-text-repr-fallback\"><pre>RandomForestClassifier(criterion=&#x27;entropy&#x27;)</pre><b>In a Jupyter environment, please rerun this cell to show the HTML representation or trust the notebook. <br />On GitHub, the HTML representation is unable to render, please try loading this page with nbviewer.org.</b></div><div class=\"sk-container\" hidden><div class=\"sk-item\"><div class=\"sk-estimator sk-toggleable\"><input class=\"sk-toggleable__control sk-hidden--visually\" id=\"sk-estimator-id-1\" type=\"checkbox\" checked><label for=\"sk-estimator-id-1\" class=\"sk-toggleable__label sk-toggleable__label-arrow\">RandomForestClassifier</label><div class=\"sk-toggleable__content\"><pre>RandomForestClassifier(criterion=&#x27;entropy&#x27;)</pre></div></div></div></div></div>"
      ],
      "text/plain": [
       "RandomForestClassifier(criterion='entropy')"
      ]
     },
     "execution_count": 30,
     "metadata": {},
     "output_type": "execute_result"
    }
   ],
   "source": [
    "#Fitting Decision Tree classifier to the training set  \n",
    "from sklearn.ensemble import RandomForestClassifier  \n",
    "classifier= RandomForestClassifier(n_estimators= 100, criterion=\"entropy\")  \n",
    "classifier.fit(X_train, Y_train)"
   ]
  },
  {
   "cell_type": "code",
   "execution_count": 31,
   "id": "a35eff03-9d1d-4ebc-ab47-c63d99d689fc",
   "metadata": {},
   "outputs": [],
   "source": [
    "Y_pred= classifier.predict(X_test)"
   ]
  },
  {
   "cell_type": "code",
   "execution_count": 32,
   "id": "64f474ec-282b-4ab3-9dee-44161a30d00d",
   "metadata": {},
   "outputs": [
    {
     "data": {
      "text/plain": [
       "array([0, 0, 1, 1, 1, 1, 0, 1, 1, 1, 0, 0, 0, 1, 0, 1, 1, 1, 1, 0, 0, 1,\n",
       "       0, 0, 1, 1, 1, 1, 1, 1, 0, 1, 1, 1, 1, 0, 1, 1, 1, 0, 1, 1, 1, 1,\n",
       "       1, 0, 0, 1, 1, 1, 1, 1, 1, 1, 0, 0, 1, 0, 0, 0, 0, 1, 1, 0, 1, 0,\n",
       "       0, 1, 0, 0, 0, 0, 1, 1, 1, 1, 1, 0, 0, 1, 1, 0, 0, 0, 1, 0, 0, 1,\n",
       "       1, 1, 0, 1, 0, 1, 0, 1, 1, 0, 1, 0, 1, 0, 1, 0, 1, 1, 1, 0, 1, 1,\n",
       "       0, 1, 1, 1, 1, 1, 1, 1, 0, 1, 1, 1, 0, 1, 1, 1, 0, 1, 0, 1, 0, 1,\n",
       "       1, 1, 1, 1, 0, 0, 1, 0, 1, 1, 0, 1, 0, 0, 0, 1, 1, 1, 0, 1, 1, 1,\n",
       "       1, 0, 0, 1, 1, 0, 0, 1, 1, 1, 1, 1, 1, 1, 0, 0, 1, 1, 0, 1, 1, 0,\n",
       "       1, 1, 0, 1, 1, 1, 0, 1, 1, 1, 1, 1, 0, 0, 0, 1, 0, 0, 1, 1, 1, 0,\n",
       "       1, 0, 0, 1, 0, 1, 0, 1, 0, 0, 1, 0, 1, 1, 0, 1, 1, 1, 0, 0, 1, 1,\n",
       "       1, 1, 0, 1, 1, 1, 0, 1, 0, 1, 1, 1, 1, 0, 1, 1, 0, 1, 1, 1, 1, 1,\n",
       "       1, 1, 0, 1, 1, 1, 1, 1, 1, 1, 1, 1, 0, 0, 1, 1, 1, 1, 1, 0, 0, 0,\n",
       "       1, 0, 1, 0, 0, 1, 1, 0, 1, 0, 1, 0, 0, 1, 0, 1, 1, 0, 1, 0, 1, 0,\n",
       "       1, 1, 0, 1, 1, 1, 0, 1, 1, 0, 1, 0, 1, 0, 1, 0, 1, 1, 1, 0, 0, 0,\n",
       "       1, 0, 1, 1, 1, 1, 0, 1, 1, 1, 1, 0, 1, 1, 1, 1, 0, 1, 1, 0, 1, 1,\n",
       "       1, 0, 0, 1, 1, 1, 1, 0, 1, 1, 0, 0, 1, 1, 1, 1, 0, 1, 1, 1, 1, 1,\n",
       "       1, 1, 0, 0, 1, 1, 1, 1, 1, 0, 1, 1, 0, 1, 0, 1, 0, 1, 1, 1, 1, 1,\n",
       "       0, 1, 0, 1, 1, 0, 0, 1, 0, 1, 0, 1, 1, 1, 1, 1, 1, 1, 1, 0, 1, 1,\n",
       "       0, 0, 1, 1, 1, 1, 1, 0, 1, 1, 1, 1, 0, 1, 1, 1, 0, 1, 1, 0, 0, 1,\n",
       "       0, 1, 1, 1, 1, 1, 1, 1, 0, 1, 0, 1, 0, 0, 0, 0, 1, 0, 1, 1, 0, 0,\n",
       "       0, 1, 1, 1, 1, 1, 1, 0, 0, 1, 0, 1, 0, 1, 1, 1, 1, 1, 1, 1, 0, 0,\n",
       "       1, 1, 1, 0, 1, 0], dtype=int64)"
      ]
     },
     "execution_count": 32,
     "metadata": {},
     "output_type": "execute_result"
    }
   ],
   "source": [
    "Y_pred"
   ]
  },
  {
   "cell_type": "code",
   "execution_count": 33,
   "id": "ec507aa9-4e9e-4e16-bae6-f701d83aafa7",
   "metadata": {},
   "outputs": [
    {
     "data": {
      "text/plain": [
       "<AxesSubplot:>"
      ]
     },
     "execution_count": 33,
     "metadata": {},
     "output_type": "execute_result"
    },
    {
     "data": {
      "image/png": "[encoded data removed]",
      "text/plain": [
       "<Figure size 432x288 with 2 Axes>"
      ]
     },
     "metadata": {
      "needs_background": "light"
     },
     "output_type": "display_data"
    }
   ],
   "source": [
    "forest_cm = metrics.confusion_matrix(Y_pred, Y_test)\n",
    "sns.heatmap(forest_cm, annot=True, fmt='.2f',xticklabels = [\"1\", \"0\"] , yticklabels = [\"1\", \"0\"] )"
   ]
  },
  {
   "cell_type": "code",
   "execution_count": 34,
   "id": "0bf53b7a-6a7b-4fa3-a2c2-bf77ac019d80",
   "metadata": {},
   "outputs": [
    {
     "name": "stdout",
     "output_type": "stream",
     "text": [
      "Accuracy :  0.9722222222222222\n"
     ]
    }
   ],
   "source": [
    "from sklearn.metrics import accuracy_score\n",
    "print (\"Accuracy : \", accuracy_score(Y_test, Y_pred))"
   ]
  },
  {
   "cell_type": "code",
   "execution_count": 35,
   "id": "ed3e5663-9991-4020-9324-8a9ab322ec5f",
   "metadata": {},
   "outputs": [
    {
     "data": {
      "text/plain": [
       "[<matplotlib.lines.Line2D at 0x2bb29673370>]"
      ]
     },
     "execution_count": 35,
     "metadata": {},
     "output_type": "execute_result"
    },
    {
     "data": {
      "image/png": "[encoded data removed]",
      "text/plain": [
       "<Figure size 432x288 with 1 Axes>"
      ]
     },
     "metadata": {
      "needs_background": "light"
     },
     "output_type": "display_data"
    }
   ],
   "source": [
    "from sklearn import metrics\n",
    "yp = classifier.predict(X_test)\n",
    "fpr, tpr, _ = metrics.roc_curve(Y_test, yp)\n",
    "auc = round(metrics.roc_auc_score(Y_test, yp), 4)\n",
    "plt.plot(fpr,tpr,label=\"nn, AUC=\"+str(auc))"
   ]
  },
  {
   "cell_type": "code",
   "execution_count": 36,
   "id": "77a27ec4-f11f-48fa-ad39-0505fdde2b10",
   "metadata": {},
   "outputs": [],
   "source": [
    "from sklearn.preprocessing import StandardScaler\n",
    "sc = StandardScaler()\n",
    "X_train = sc.fit_transform(X_train)\n",
    "X_test = sc.transform(X_test)"
   ]
  },
  {
   "cell_type": "code",
   "execution_count": 37,
   "id": "545f1b06-eb1a-44a5-8bc6-1060b29acf9a",
   "metadata": {},
   "outputs": [
    {
     "name": "stdout",
     "output_type": "stream",
     "text": [
      "Epoch 1/150\n",
      "188/188 [==============================] - 5s 3ms/step - loss: 0.7497 - accuracy: 0.4877\n",
      "Epoch 2/150\n",
      "188/188 [==============================] - 1s 4ms/step - loss: 0.6684 - accuracy: 0.5972\n",
      "Epoch 3/150\n",
      "188/188 [==============================] - 0s 3ms/step - loss: 0.6504 - accuracy: 0.6191\n",
      "Epoch 4/150\n",
      "188/188 [==============================] - 1s 3ms/step - loss: 0.6311 - accuracy: 0.6565\n",
      "Epoch 5/150\n",
      "188/188 [==============================] - 1s 3ms/step - loss: 0.6028 - accuracy: 0.6843\n",
      "Epoch 6/150\n",
      "188/188 [==============================] - 1s 3ms/step - loss: 0.5625 - accuracy: 0.7126\n",
      "Epoch 7/150\n",
      "188/188 [==============================] - 1s 3ms/step - loss: 0.5117 - accuracy: 0.7655\n",
      "Epoch 8/150\n",
      "188/188 [==============================] - 1s 3ms/step - loss: 0.4583 - accuracy: 0.8120\n",
      "Epoch 9/150\n",
      "188/188 [==============================] - 0s 3ms/step - loss: 0.4168 - accuracy: 0.8403\n",
      "Epoch 10/150\n",
      "188/188 [==============================] - 0s 3ms/step - loss: 0.3883 - accuracy: 0.8494\n",
      "Epoch 11/150\n",
      "188/188 [==============================] - 0s 3ms/step - loss: 0.3682 - accuracy: 0.8638\n",
      "Epoch 12/150\n",
      "188/188 [==============================] - 0s 3ms/step - loss: 0.3521 - accuracy: 0.8718\n",
      "Epoch 13/150\n",
      "188/188 [==============================] - 0s 2ms/step - loss: 0.3448 - accuracy: 0.8723\n",
      "Epoch 14/150\n",
      "188/188 [==============================] - 0s 3ms/step - loss: 0.3364 - accuracy: 0.8739\n",
      "Epoch 15/150\n",
      "188/188 [==============================] - 0s 2ms/step - loss: 0.3303 - accuracy: 0.8761\n",
      "Epoch 16/150\n",
      "188/188 [==============================] - 0s 2ms/step - loss: 0.3252 - accuracy: 0.8777\n",
      "Epoch 17/150\n",
      "188/188 [==============================] - 0s 3ms/step - loss: 0.3231 - accuracy: 0.8771\n",
      "Epoch 18/150\n",
      "188/188 [==============================] - 0s 3ms/step - loss: 0.3196 - accuracy: 0.8793\n",
      "Epoch 19/150\n",
      "188/188 [==============================] - 0s 3ms/step - loss: 0.3156 - accuracy: 0.8814\n",
      "Epoch 20/150\n",
      "188/188 [==============================] - 1s 3ms/step - loss: 0.3129 - accuracy: 0.8825\n",
      "Epoch 21/150\n",
      "188/188 [==============================] - 0s 3ms/step - loss: 0.3119 - accuracy: 0.8803\n",
      "Epoch 22/150\n",
      "188/188 [==============================] - 0s 3ms/step - loss: 0.3095 - accuracy: 0.8793\n",
      "Epoch 23/150\n",
      "188/188 [==============================] - 0s 2ms/step - loss: 0.3070 - accuracy: 0.8814\n",
      "Epoch 24/150\n",
      "188/188 [==============================] - 0s 3ms/step - loss: 0.3052 - accuracy: 0.8803\n",
      "Epoch 25/150\n",
      "188/188 [==============================] - 0s 3ms/step - loss: 0.3037 - accuracy: 0.8814\n",
      "Epoch 26/150\n",
      "188/188 [==============================] - 0s 2ms/step - loss: 0.3029 - accuracy: 0.8803\n",
      "Epoch 27/150\n",
      "188/188 [==============================] - 0s 3ms/step - loss: 0.3016 - accuracy: 0.8835\n",
      "Epoch 28/150\n",
      "188/188 [==============================] - 1s 3ms/step - loss: 0.3011 - accuracy: 0.8793\n",
      "Epoch 29/150\n",
      "188/188 [==============================] - 1s 3ms/step - loss: 0.2981 - accuracy: 0.8841\n",
      "Epoch 30/150\n",
      "188/188 [==============================] - 1s 3ms/step - loss: 0.2980 - accuracy: 0.8782\n",
      "Epoch 31/150\n",
      "188/188 [==============================] - 1s 3ms/step - loss: 0.2964 - accuracy: 0.8835\n",
      "Epoch 32/150\n",
      "188/188 [==============================] - 1s 3ms/step - loss: 0.2951 - accuracy: 0.8809\n",
      "Epoch 33/150\n",
      "188/188 [==============================] - 1s 3ms/step - loss: 0.2941 - accuracy: 0.8841\n",
      "Epoch 34/150\n",
      "188/188 [==============================] - 0s 3ms/step - loss: 0.2925 - accuracy: 0.8868\n",
      "Epoch 35/150\n",
      "188/188 [==============================] - 1s 3ms/step - loss: 0.2922 - accuracy: 0.8825\n",
      "Epoch 36/150\n",
      "188/188 [==============================] - 1s 3ms/step - loss: 0.2913 - accuracy: 0.8857\n",
      "Epoch 37/150\n",
      "188/188 [==============================] - 1s 3ms/step - loss: 0.2903 - accuracy: 0.8894\n",
      "Epoch 38/150\n",
      "188/188 [==============================] - 1s 3ms/step - loss: 0.2892 - accuracy: 0.8851\n",
      "Epoch 39/150\n",
      "188/188 [==============================] - 1s 3ms/step - loss: 0.2888 - accuracy: 0.8841\n",
      "Epoch 40/150\n",
      "188/188 [==============================] - 0s 3ms/step - loss: 0.2885 - accuracy: 0.8868\n",
      "Epoch 41/150\n",
      "188/188 [==============================] - 0s 3ms/step - loss: 0.2866 - accuracy: 0.8894\n",
      "Epoch 42/150\n",
      "188/188 [==============================] - 1s 3ms/step - loss: 0.2851 - accuracy: 0.8948\n",
      "Epoch 43/150\n",
      "188/188 [==============================] - 1s 3ms/step - loss: 0.2864 - accuracy: 0.8878\n",
      "Epoch 44/150\n",
      "188/188 [==============================] - 1s 3ms/step - loss: 0.2866 - accuracy: 0.8889\n",
      "Epoch 45/150\n",
      "188/188 [==============================] - 1s 3ms/step - loss: 0.2854 - accuracy: 0.8894\n",
      "Epoch 46/150\n",
      "188/188 [==============================] - 1s 3ms/step - loss: 0.2848 - accuracy: 0.8862\n",
      "Epoch 47/150\n",
      "188/188 [==============================] - 1s 3ms/step - loss: 0.2827 - accuracy: 0.8910\n",
      "Epoch 48/150\n",
      "188/188 [==============================] - 1s 3ms/step - loss: 0.2813 - accuracy: 0.8900\n",
      "Epoch 49/150\n",
      "188/188 [==============================] - 1s 3ms/step - loss: 0.2810 - accuracy: 0.8916\n",
      "Epoch 50/150\n",
      "188/188 [==============================] - 1s 3ms/step - loss: 0.2822 - accuracy: 0.8916\n",
      "Epoch 51/150\n",
      "188/188 [==============================] - 0s 3ms/step - loss: 0.2806 - accuracy: 0.8910\n",
      "Epoch 52/150\n",
      "188/188 [==============================] - 1s 3ms/step - loss: 0.2818 - accuracy: 0.8873\n",
      "Epoch 53/150\n",
      "188/188 [==============================] - 1s 3ms/step - loss: 0.2795 - accuracy: 0.8921\n",
      "Epoch 54/150\n",
      "188/188 [==============================] - 1s 3ms/step - loss: 0.2788 - accuracy: 0.8905\n",
      "Epoch 55/150\n",
      "188/188 [==============================] - 1s 3ms/step - loss: 0.2796 - accuracy: 0.8916\n",
      "Epoch 56/150\n",
      "188/188 [==============================] - 1s 3ms/step - loss: 0.2782 - accuracy: 0.8910\n",
      "Epoch 57/150\n",
      "188/188 [==============================] - 1s 3ms/step - loss: 0.2792 - accuracy: 0.8942\n",
      "Epoch 58/150\n",
      "188/188 [==============================] - 1s 3ms/step - loss: 0.2771 - accuracy: 0.8932\n",
      "Epoch 59/150\n",
      "188/188 [==============================] - 1s 3ms/step - loss: 0.2776 - accuracy: 0.8921\n",
      "Epoch 60/150\n",
      "188/188 [==============================] - 1s 3ms/step - loss: 0.2781 - accuracy: 0.8894\n",
      "Epoch 61/150\n",
      "188/188 [==============================] - 1s 3ms/step - loss: 0.2760 - accuracy: 0.8926\n",
      "Epoch 62/150\n",
      "188/188 [==============================] - 1s 3ms/step - loss: 0.2769 - accuracy: 0.8916\n",
      "Epoch 63/150\n",
      "188/188 [==============================] - 1s 3ms/step - loss: 0.2751 - accuracy: 0.8921\n",
      "Epoch 64/150\n",
      "188/188 [==============================] - 1s 3ms/step - loss: 0.2758 - accuracy: 0.8932\n",
      "Epoch 65/150\n",
      "188/188 [==============================] - 1s 3ms/step - loss: 0.2750 - accuracy: 0.8937\n",
      "Epoch 66/150\n",
      "188/188 [==============================] - 1s 4ms/step - loss: 0.2739 - accuracy: 0.8916\n",
      "Epoch 67/150\n",
      "188/188 [==============================] - 1s 3ms/step - loss: 0.2751 - accuracy: 0.8916\n",
      "Epoch 68/150\n",
      "188/188 [==============================] - 1s 3ms/step - loss: 0.2748 - accuracy: 0.8942\n",
      "Epoch 69/150\n",
      "188/188 [==============================] - 1s 3ms/step - loss: 0.2737 - accuracy: 0.8926\n",
      "Epoch 70/150\n",
      "188/188 [==============================] - 1s 3ms/step - loss: 0.2735 - accuracy: 0.8932\n",
      "Epoch 71/150\n",
      "188/188 [==============================] - 1s 3ms/step - loss: 0.2734 - accuracy: 0.8910\n",
      "Epoch 72/150\n",
      "188/188 [==============================] - 1s 3ms/step - loss: 0.2728 - accuracy: 0.8921\n",
      "Epoch 73/150\n",
      "188/188 [==============================] - 0s 3ms/step - loss: 0.2723 - accuracy: 0.8932\n",
      "Epoch 74/150\n",
      "188/188 [==============================] - 1s 3ms/step - loss: 0.2728 - accuracy: 0.8916\n",
      "Epoch 75/150\n",
      "188/188 [==============================] - 0s 3ms/step - loss: 0.2724 - accuracy: 0.8985\n",
      "Epoch 76/150\n",
      "188/188 [==============================] - 0s 3ms/step - loss: 0.2714 - accuracy: 0.8942\n",
      "Epoch 77/150\n",
      "188/188 [==============================] - 0s 3ms/step - loss: 0.2730 - accuracy: 0.8948\n",
      "Epoch 78/150\n",
      "188/188 [==============================] - 1s 3ms/step - loss: 0.2696 - accuracy: 0.8932\n",
      "Epoch 79/150\n",
      "188/188 [==============================] - 1s 3ms/step - loss: 0.2707 - accuracy: 0.8964\n",
      "Epoch 80/150\n",
      "188/188 [==============================] - 1s 3ms/step - loss: 0.2694 - accuracy: 0.8964\n",
      "Epoch 81/150\n",
      "188/188 [==============================] - 1s 3ms/step - loss: 0.2675 - accuracy: 0.8948\n",
      "Epoch 82/150\n",
      "188/188 [==============================] - 0s 3ms/step - loss: 0.2703 - accuracy: 0.8974\n",
      "Epoch 83/150\n",
      "188/188 [==============================] - 0s 3ms/step - loss: 0.2686 - accuracy: 0.8932\n",
      "Epoch 84/150\n",
      "188/188 [==============================] - 0s 2ms/step - loss: 0.2693 - accuracy: 0.8964\n",
      "Epoch 85/150\n",
      "188/188 [==============================] - 0s 3ms/step - loss: 0.2691 - accuracy: 0.8942\n",
      "Epoch 86/150\n",
      "188/188 [==============================] - 0s 3ms/step - loss: 0.2674 - accuracy: 0.8969\n",
      "Epoch 87/150\n",
      "188/188 [==============================] - 0s 2ms/step - loss: 0.2673 - accuracy: 0.8937\n",
      "Epoch 88/150\n",
      "188/188 [==============================] - 0s 2ms/step - loss: 0.2688 - accuracy: 0.8964\n",
      "Epoch 89/150\n",
      "188/188 [==============================] - 0s 2ms/step - loss: 0.2678 - accuracy: 0.8937\n",
      "Epoch 90/150\n",
      "188/188 [==============================] - 0s 2ms/step - loss: 0.2665 - accuracy: 0.8921\n",
      "Epoch 91/150\n",
      "188/188 [==============================] - 0s 2ms/step - loss: 0.2658 - accuracy: 0.8948\n",
      "Epoch 92/150\n",
      "188/188 [==============================] - 0s 2ms/step - loss: 0.2650 - accuracy: 0.8969\n",
      "Epoch 93/150\n",
      "188/188 [==============================] - 0s 2ms/step - loss: 0.2658 - accuracy: 0.8942\n",
      "Epoch 94/150\n",
      "188/188 [==============================] - 0s 2ms/step - loss: 0.2650 - accuracy: 0.8948\n",
      "Epoch 95/150\n",
      "188/188 [==============================] - 0s 2ms/step - loss: 0.2639 - accuracy: 0.9012\n",
      "Epoch 96/150\n",
      "188/188 [==============================] - 0s 2ms/step - loss: 0.2652 - accuracy: 0.8964\n",
      "Epoch 97/150\n",
      "188/188 [==============================] - 0s 2ms/step - loss: 0.2631 - accuracy: 0.8958\n",
      "Epoch 98/150\n",
      "188/188 [==============================] - 0s 3ms/step - loss: 0.2633 - accuracy: 0.8969\n",
      "Epoch 99/150\n",
      "188/188 [==============================] - 0s 2ms/step - loss: 0.2647 - accuracy: 0.8969\n",
      "Epoch 100/150\n",
      "188/188 [==============================] - 0s 2ms/step - loss: 0.2634 - accuracy: 0.8969\n",
      "Epoch 101/150\n",
      "188/188 [==============================] - 0s 2ms/step - loss: 0.2629 - accuracy: 0.8964\n",
      "Epoch 102/150\n",
      "188/188 [==============================] - 0s 2ms/step - loss: 0.2643 - accuracy: 0.8937\n",
      "Epoch 103/150\n",
      "188/188 [==============================] - 0s 2ms/step - loss: 0.2625 - accuracy: 0.8980\n",
      "Epoch 104/150\n",
      "188/188 [==============================] - 0s 2ms/step - loss: 0.2620 - accuracy: 0.8953\n",
      "Epoch 105/150\n",
      "188/188 [==============================] - 0s 2ms/step - loss: 0.2622 - accuracy: 0.8964\n",
      "Epoch 106/150\n",
      "188/188 [==============================] - 0s 2ms/step - loss: 0.2614 - accuracy: 0.8969\n",
      "Epoch 107/150\n",
      "188/188 [==============================] - 0s 2ms/step - loss: 0.2605 - accuracy: 0.9001\n",
      "Epoch 108/150\n",
      "188/188 [==============================] - 0s 2ms/step - loss: 0.2622 - accuracy: 0.8974\n",
      "Epoch 109/150\n",
      "188/188 [==============================] - 0s 2ms/step - loss: 0.2604 - accuracy: 0.8964\n",
      "Epoch 110/150\n",
      "188/188 [==============================] - 0s 2ms/step - loss: 0.2606 - accuracy: 0.8990\n",
      "Epoch 111/150\n",
      "188/188 [==============================] - 0s 2ms/step - loss: 0.2604 - accuracy: 0.8974\n",
      "Epoch 112/150\n",
      "188/188 [==============================] - 0s 3ms/step - loss: 0.2591 - accuracy: 0.8985\n",
      "Epoch 113/150\n",
      "188/188 [==============================] - 0s 3ms/step - loss: 0.2603 - accuracy: 0.8948\n",
      "Epoch 114/150\n",
      "188/188 [==============================] - 0s 3ms/step - loss: 0.2585 - accuracy: 0.8980\n",
      "Epoch 115/150\n",
      "188/188 [==============================] - 0s 3ms/step - loss: 0.2586 - accuracy: 0.8985\n",
      "Epoch 116/150\n",
      "188/188 [==============================] - 0s 3ms/step - loss: 0.2581 - accuracy: 0.8980\n",
      "Epoch 117/150\n",
      "188/188 [==============================] - 0s 2ms/step - loss: 0.2588 - accuracy: 0.8980\n",
      "Epoch 118/150\n",
      "188/188 [==============================] - 0s 2ms/step - loss: 0.2581 - accuracy: 0.8953\n",
      "Epoch 119/150\n",
      "188/188 [==============================] - 0s 2ms/step - loss: 0.2580 - accuracy: 0.8964\n",
      "Epoch 120/150\n",
      "188/188 [==============================] - 0s 2ms/step - loss: 0.2576 - accuracy: 0.8985\n",
      "Epoch 121/150\n",
      "188/188 [==============================] - 0s 2ms/step - loss: 0.2570 - accuracy: 0.9012\n",
      "Epoch 122/150\n",
      "188/188 [==============================] - 0s 2ms/step - loss: 0.2584 - accuracy: 0.9033\n",
      "Epoch 123/150\n",
      "188/188 [==============================] - 1s 3ms/step - loss: 0.2575 - accuracy: 0.8969\n",
      "Epoch 124/150\n",
      "188/188 [==============================] - 0s 2ms/step - loss: 0.2581 - accuracy: 0.8948\n",
      "Epoch 125/150\n",
      "188/188 [==============================] - 0s 2ms/step - loss: 0.2564 - accuracy: 0.8969\n",
      "Epoch 126/150\n",
      "188/188 [==============================] - 0s 2ms/step - loss: 0.2561 - accuracy: 0.8969\n",
      "Epoch 127/150\n",
      "188/188 [==============================] - 0s 2ms/step - loss: 0.2547 - accuracy: 0.8980\n",
      "Epoch 128/150\n",
      "188/188 [==============================] - 0s 2ms/step - loss: 0.2559 - accuracy: 0.8996\n",
      "Epoch 129/150\n",
      "188/188 [==============================] - 0s 2ms/step - loss: 0.2563 - accuracy: 0.9001\n",
      "Epoch 130/150\n",
      "188/188 [==============================] - 0s 2ms/step - loss: 0.2563 - accuracy: 0.8980\n",
      "Epoch 131/150\n",
      "188/188 [==============================] - 0s 2ms/step - loss: 0.2559 - accuracy: 0.9006\n",
      "Epoch 132/150\n",
      "188/188 [==============================] - 0s 3ms/step - loss: 0.2542 - accuracy: 0.9001\n",
      "Epoch 133/150\n",
      "188/188 [==============================] - 0s 2ms/step - loss: 0.2539 - accuracy: 0.8980\n",
      "Epoch 134/150\n",
      "188/188 [==============================] - 0s 2ms/step - loss: 0.2538 - accuracy: 0.8990\n",
      "Epoch 135/150\n",
      "188/188 [==============================] - 0s 2ms/step - loss: 0.2549 - accuracy: 0.8990\n",
      "Epoch 136/150\n",
      "188/188 [==============================] - 0s 2ms/step - loss: 0.2553 - accuracy: 0.8964\n",
      "Epoch 137/150\n",
      "188/188 [==============================] - 0s 2ms/step - loss: 0.2533 - accuracy: 0.9006\n",
      "Epoch 138/150\n",
      "188/188 [==============================] - 0s 2ms/step - loss: 0.2531 - accuracy: 0.9006\n",
      "Epoch 139/150\n",
      "188/188 [==============================] - 0s 2ms/step - loss: 0.2547 - accuracy: 0.8996\n",
      "Epoch 140/150\n",
      "188/188 [==============================] - 0s 2ms/step - loss: 0.2529 - accuracy: 0.8985\n",
      "Epoch 141/150\n",
      "188/188 [==============================] - 0s 2ms/step - loss: 0.2525 - accuracy: 0.9012\n",
      "Epoch 142/150\n",
      "188/188 [==============================] - 0s 2ms/step - loss: 0.2522 - accuracy: 0.8996\n",
      "Epoch 143/150\n",
      "188/188 [==============================] - 0s 2ms/step - loss: 0.2518 - accuracy: 0.8980\n",
      "Epoch 144/150\n",
      "188/188 [==============================] - 0s 2ms/step - loss: 0.2513 - accuracy: 0.9001\n",
      "Epoch 145/150\n",
      "188/188 [==============================] - 0s 2ms/step - loss: 0.2511 - accuracy: 0.8985\n",
      "Epoch 146/150\n",
      "188/188 [==============================] - 1s 3ms/step - loss: 0.2521 - accuracy: 0.9006\n",
      "Epoch 147/150\n",
      "188/188 [==============================] - 0s 3ms/step - loss: 0.2512 - accuracy: 0.8980\n",
      "Epoch 148/150\n",
      "188/188 [==============================] - 0s 3ms/step - loss: 0.2505 - accuracy: 0.9017\n",
      "Epoch 149/150\n",
      "188/188 [==============================] - 0s 3ms/step - loss: 0.2509 - accuracy: 0.8985\n",
      "Epoch 150/150\n",
      "188/188 [==============================] - 0s 3ms/step - loss: 0.2497 - accuracy: 0.9017\n"
     ]
    },
    {
     "data": {
      "text/plain": [
       "<keras.callbacks.History at 0x2bb30846f40>"
      ]
     },
     "execution_count": 37,
     "metadata": {},
     "output_type": "execute_result"
    }
   ],
   "source": [
    "#Fitting NN classifier to the training set  \n",
    "from keras.models import Sequential\n",
    "from keras.layers import Dense\n",
    "import numpy\n",
    "# create model\n",
    "model = Sequential()\n",
    "model.add(Dense(12, input_dim=5, activation='relu'))\n",
    "model.add(Dense(19,activation='relu'))\n",
    "model.add(Dense(1, activation='sigmoid'))\n",
    "# Compile model\n",
    "model.compile(loss='binary_crossentropy', optimizer='adam', metrics=['accuracy'])\n",
    "# Fit the model\n",
    "model.fit(X_train, Y_train, epochs=150, batch_size=10)"
   ]
  },
  {
   "cell_type": "code",
   "execution_count": 38,
   "id": "98123d85-a392-4b4f-b729-9f112a3387f9",
   "metadata": {},
   "outputs": [
    {
     "name": "stdout",
     "output_type": "stream",
     "text": [
      "15/15 [==============================] - 0s 5ms/step - loss: 0.2212 - accuracy: 0.9231\n",
      "accuracy: 92.31%\n"
     ]
    }
   ],
   "source": [
    "# evaluate the model\n",
    "scores = model.evaluate(X_test, Y_test)\n",
    "print(\"%s: %.2f%%\" % (model.metrics_names[1], scores[1]*100))"
   ]
  },
  {
   "cell_type": "code",
   "execution_count": 39,
   "id": "ea71177c-3143-42e4-8437-3411ca02bb76",
   "metadata": {},
   "outputs": [
    {
     "name": "stdout",
     "output_type": "stream",
     "text": [
      "15/15 [==============================] - 0s 2ms/step\n"
     ]
    },
    {
     "data": {
      "text/plain": [
       "[<matplotlib.lines.Line2D at 0x2bb32c6efa0>]"
      ]
     },
     "execution_count": 39,
     "metadata": {},
     "output_type": "execute_result"
    },
    {
     "data": {
      "image/png": "[encoded data removed]",
      "text/plain": [
       "<Figure size 432x288 with 1 Axes>"
      ]
     },
     "metadata": {
      "needs_background": "light"
     },
     "output_type": "display_data"
    }
   ],
   "source": [
    "from sklearn import metrics\n",
    "yp = model.predict(X_test)\n",
    "fpr, tpr, _ = metrics.roc_curve(Y_test, yp)\n",
    "auc = round(metrics.roc_auc_score(Y_test, yp), 4)\n",
    "plt.plot(fpr,tpr,label=\"nn, AUC=\"+str(auc))"
   ]
  },
  {
   "cell_type": "code",
   "execution_count": 40,
   "id": "58910de2-d847-4983-9c5c-ca44f2e3bd39",
   "metadata": {},
   "outputs": [
    {
     "data": {
      "text/html": [
       "<style>#sk-container-id-2 {color: black;background-color: white;}#sk-container-id-2 pre{padding: 0;}#sk-container-id-2 div.sk-toggleable {background-color: white;}#sk-container-id-2 label.sk-toggleable__label {cursor: pointer;display: block;width: 100%;margin-bottom: 0;padding: 0.3em;box-sizing: border-box;text-align: center;}#sk-container-id-2 label.sk-toggleable__label-arrow:before {content: \"▸\";float: left;margin-right: 0.25em;color: #696969;}#sk-container-id-2 label.sk-toggleable__label-arrow:hover:before {color: black;}#sk-container-id-2 div.sk-estimator:hover label.sk-toggleable__label-arrow:before {color: black;}#sk-container-id-2 div.sk-toggleable__content {max-height: 0;max-width: 0;overflow: hidden;text-align: left;background-color: #f0f8ff;}#sk-container-id-2 div.sk-toggleable__content pre {margin: 0.2em;color: black;border-radius: 0.25em;background-color: #f0f8ff;}#sk-container-id-2 input.sk-toggleable__control:checked~div.sk-toggleable__content {max-height: 200px;max-width: 100%;overflow: auto;}#sk-container-id-2 input.sk-toggleable__control:checked~label.sk-toggleable__label-arrow:before {content: \"▾\";}#sk-container-id-2 div.sk-estimator input.sk-toggleable__control:checked~label.sk-toggleable__label {background-color: #d4ebff;}#sk-container-id-2 div.sk-label input.sk-toggleable__control:checked~label.sk-toggleable__label {background-color: #d4ebff;}#sk-container-id-2 input.sk-hidden--visually {border: 0;clip: rect(1px 1px 1px 1px);clip: rect(1px, 1px, 1px, 1px);height: 1px;margin: -1px;overflow: hidden;padding: 0;position: absolute;width: 1px;}#sk-container-id-2 div.sk-estimator {font-family: monospace;background-color: #f0f8ff;border: 1px dotted black;border-radius: 0.25em;box-sizing: border-box;margin-bottom: 0.5em;}#sk-container-id-2 div.sk-estimator:hover {background-color: #d4ebff;}#sk-container-id-2 div.sk-parallel-item::after {content: \"\";width: 100%;border-bottom: 1px solid gray;flex-grow: 1;}#sk-container-id-2 div.sk-label:hover label.sk-toggleable__label {background-color: #d4ebff;}#sk-container-id-2 div.sk-serial::before {content: \"\";position: absolute;border-left: 1px solid gray;box-sizing: border-box;top: 0;bottom: 0;left: 50%;z-index: 0;}#sk-container-id-2 div.sk-serial {display: flex;flex-direction: column;align-items: center;background-color: white;padding-right: 0.2em;padding-left: 0.2em;position: relative;}#sk-container-id-2 div.sk-item {position: relative;z-index: 1;}#sk-container-id-2 div.sk-parallel {display: flex;align-items: stretch;justify-content: center;background-color: white;position: relative;}#sk-container-id-2 div.sk-item::before, #sk-container-id-2 div.sk-parallel-item::before {content: \"\";position: absolute;border-left: 1px solid gray;box-sizing: border-box;top: 0;bottom: 0;left: 50%;z-index: -1;}#sk-container-id-2 div.sk-parallel-item {display: flex;flex-direction: column;z-index: 1;position: relative;background-color: white;}#sk-container-id-2 div.sk-parallel-item:first-child::after {align-self: flex-end;width: 50%;}#sk-container-id-2 div.sk-parallel-item:last-child::after {align-self: flex-start;width: 50%;}#sk-container-id-2 div.sk-parallel-item:only-child::after {width: 0;}#sk-container-id-2 div.sk-dashed-wrapped {border: 1px dashed gray;margin: 0 0.4em 0.5em 0.4em;box-sizing: border-box;padding-bottom: 0.4em;background-color: white;}#sk-container-id-2 div.sk-label label {font-family: monospace;font-weight: bold;display: inline-block;line-height: 1.2em;}#sk-container-id-2 div.sk-label-container {text-align: center;}#sk-container-id-2 div.sk-container {/* jupyter's `normalize.less` sets `[hidden] { display: none; }` but bootstrap.min.css set `[hidden] { display: none !important; }` so we also need the `!important` here to be able to override the default hidden behavior on the sphinx rendered scikit-learn.org. See: https://github.com/scikit-learn/scikit-learn/issues/21755 */display: inline-block !important;position: relative;}#sk-container-id-2 div.sk-text-repr-fallback {display: none;}</style><div id=\"sk-container-id-2\" class=\"sk-top-container\"><div class=\"sk-text-repr-fallback\"><pre>LogisticRegression(random_state=0)</pre><b>In a Jupyter environment, please rerun this cell to show the HTML representation or trust the notebook. <br />On GitHub, the HTML representation is unable to render, please try loading this page with nbviewer.org.</b></div><div class=\"sk-container\" hidden><div class=\"sk-item\"><div class=\"sk-estimator sk-toggleable\"><input class=\"sk-toggleable__control sk-hidden--visually\" id=\"sk-estimator-id-2\" type=\"checkbox\" checked><label for=\"sk-estimator-id-2\" class=\"sk-toggleable__label sk-toggleable__label-arrow\">LogisticRegression</label><div class=\"sk-toggleable__content\"><pre>LogisticRegression(random_state=0)</pre></div></div></div></div></div>"
      ],
      "text/plain": [
       "LogisticRegression(random_state=0)"
      ]
     },
     "execution_count": 40,
     "metadata": {},
     "output_type": "execute_result"
    }
   ],
   "source": [
    "from sklearn.linear_model import LogisticRegression\n",
    "classifier=LogisticRegression(random_state=0)\n",
    "classifier.fit(X_train,Y_train)"
   ]
  },
  {
   "cell_type": "code",
   "execution_count": 41,
   "id": "f8670e41-6cb3-49b6-bbe8-9b8b4a3d86df",
   "metadata": {},
   "outputs": [],
   "source": [
    "Y_pred= classifier.predict(X_test)"
   ]
  },
  {
   "cell_type": "code",
   "execution_count": 42,
   "id": "df9d493f-9511-4e49-aca1-00d480a274bc",
   "metadata": {},
   "outputs": [
    {
     "data": {
      "text/plain": [
       "array([1, 1, 1, 1, 1, 1, 1, 1, 1, 1, 1, 1, 1, 1, 1, 1, 1, 1, 1, 1, 1, 1,\n",
       "       0, 1, 1, 1, 1, 1, 1, 1, 1, 1, 1, 1, 1, 1, 1, 1, 1, 1, 1, 1, 1, 1,\n",
       "       1, 1, 1, 1, 1, 1, 1, 1, 1, 1, 1, 1, 1, 1, 1, 1, 1, 1, 1, 1, 1, 1,\n",
       "       1, 1, 1, 1, 1, 1, 1, 0, 1, 1, 1, 1, 1, 1, 1, 1, 1, 1, 1, 1, 1, 1,\n",
       "       1, 1, 1, 1, 1, 1, 1, 1, 1, 1, 1, 1, 1, 1, 1, 1, 1, 1, 1, 1, 1, 1,\n",
       "       1, 1, 1, 1, 1, 1, 1, 1, 1, 1, 1, 1, 1, 1, 1, 1, 1, 1, 1, 1, 1, 1,\n",
       "       1, 1, 1, 1, 1, 1, 1, 1, 1, 1, 1, 1, 1, 1, 0, 1, 1, 1, 1, 1, 1, 1,\n",
       "       1, 1, 1, 1, 1, 1, 1, 1, 1, 1, 1, 1, 1, 1, 1, 1, 1, 1, 1, 1, 1, 1,\n",
       "       1, 1, 1, 1, 1, 1, 1, 1, 1, 1, 1, 1, 1, 1, 1, 1, 1, 1, 1, 1, 1, 1,\n",
       "       1, 1, 1, 1, 1, 1, 1, 1, 1, 1, 1, 1, 1, 1, 1, 1, 1, 1, 1, 1, 1, 1,\n",
       "       1, 1, 1, 1, 1, 1, 1, 1, 1, 1, 1, 1, 1, 1, 1, 1, 1, 1, 1, 1, 1, 1,\n",
       "       1, 1, 1, 1, 1, 1, 1, 1, 1, 1, 1, 1, 1, 1, 1, 1, 1, 1, 1, 1, 1, 1,\n",
       "       1, 1, 1, 1, 1, 1, 1, 1, 1, 1, 1, 1, 1, 1, 1, 1, 1, 1, 1, 1, 1, 1,\n",
       "       1, 1, 1, 1, 1, 1, 1, 1, 1, 1, 1, 1, 1, 1, 1, 1, 1, 1, 1, 1, 1, 1,\n",
       "       1, 1, 1, 1, 1, 1, 1, 1, 1, 1, 1, 1, 1, 1, 1, 1, 1, 1, 1, 1, 0, 1,\n",
       "       1, 1, 1, 1, 1, 1, 1, 1, 1, 1, 1, 1, 1, 1, 1, 1, 1, 1, 1, 1, 1, 1,\n",
       "       1, 1, 0, 1, 1, 1, 1, 1, 1, 1, 1, 1, 1, 1, 1, 1, 1, 1, 1, 1, 1, 1,\n",
       "       1, 1, 1, 1, 1, 0, 1, 1, 1, 1, 1, 1, 1, 1, 1, 1, 0, 1, 1, 1, 1, 1,\n",
       "       1, 1, 1, 1, 1, 1, 1, 1, 1, 1, 1, 1, 1, 1, 1, 1, 1, 1, 1, 1, 1, 1,\n",
       "       1, 1, 1, 1, 1, 1, 1, 1, 1, 1, 1, 1, 1, 1, 1, 1, 1, 1, 1, 1, 1, 1,\n",
       "       1, 1, 1, 1, 1, 1, 1, 1, 1, 1, 1, 1, 1, 1, 1, 1, 1, 1, 1, 1, 1, 1,\n",
       "       1, 1, 1, 1, 1, 0], dtype=int64)"
      ]
     },
     "execution_count": 42,
     "metadata": {},
     "output_type": "execute_result"
    }
   ],
   "source": [
    "Y_pred"
   ]
  },
  {
   "cell_type": "code",
   "execution_count": 43,
   "id": "a650226d-cbaf-4b2a-9542-583263404071",
   "metadata": {},
   "outputs": [
    {
     "data": {
      "text/plain": [
       "<AxesSubplot:>"
      ]
     },
     "execution_count": 43,
     "metadata": {},
     "output_type": "execute_result"
    },
    {
     "data": {
      "image/png": "[encoded data removed]",
      "text/plain": [
       "<Figure size 432x288 with 2 Axes>"
      ]
     },
     "metadata": {
      "needs_background": "light"
     },
     "output_type": "display_data"
    }
   ],
   "source": [
    "forest_cm = metrics.confusion_matrix(Y_pred, Y_test)\n",
    "sns.heatmap(forest_cm, annot=True, fmt='.2f',xticklabels = [\"1\", \"0\"] , yticklabels = [\"1\", \"0\"] )"
   ]
  },
  {
   "cell_type": "code",
   "execution_count": 44,
   "id": "803f284d-3121-4e30-a1ea-06ba4e0fca47",
   "metadata": {},
   "outputs": [
    {
     "name": "stdout",
     "output_type": "stream",
     "text": [
      "Accuracy :  0.6282051282051282\n"
     ]
    }
   ],
   "source": [
    "from sklearn.metrics import accuracy_score\n",
    "print (\"Accuracy : \", accuracy_score(Y_test, Y_pred))"
   ]
  },
  {
   "cell_type": "code",
   "execution_count": 45,
   "id": "212860e2-ad5f-4dfc-9e9f-60cbd0a55cb4",
   "metadata": {},
   "outputs": [
    {
     "data": {
      "text/plain": [
       "[<matplotlib.lines.Line2D at 0x2bb33d39370>]"
      ]
     },
     "execution_count": 45,
     "metadata": {},
     "output_type": "execute_result"
    },
    {
     "data": {
      "image/png": "[encoded data removed]",
      "text/plain": [
       "<Figure size 432x288 with 1 Axes>"
      ]
     },
     "metadata": {
      "needs_background": "light"
     },
     "output_type": "display_data"
    }
   ],
   "source": [
    "from sklearn import metrics\n",
    "yp = classifier.predict(X_test)\n",
    "fpr, tpr, _ = metrics.roc_curve(Y_test, yp)\n",
    "auc = round(metrics.roc_auc_score(Y_test, yp), 4)\n",
    "plt.plot(fpr,tpr,label=\"nn, AUC=\"+str(auc))"
   ]
  }
 ],
 "metadata": {
  "kernelspec": {
   "display_name": "Python 3 (ipykernel)",
   "language": "python",
   "name": "python3"
  },
  "language_info": {
   "codemirror_mode": {
    "name": "ipython",
    "version": 3
   },
   "file_extension": ".py",
   "mimetype": "text/x-python",
   "name": "python",
   "nbconvert_exporter": "python",
   "pygments_lexer": "ipython3",
   "version": "3.9.7"
  }
 },
 "nbformat": 4,
 "nbformat_minor": 5
}
